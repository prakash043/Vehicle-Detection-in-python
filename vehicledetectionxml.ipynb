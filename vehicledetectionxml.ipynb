#import libraries of pythonOpenCV
impport cv2

#capture frames from a video
cap=cv2.VideoCapture('video'avi)

#trained XML classifiers describe some features of dome object we want to detect
car_cascade=cv2.CascadeClassifier('cars.xml"')

#loop runs if capturing has been initialized
while True:

  #reads frames from a video
  ret,frames=cap.read()
  
  #convert to gray scale of eaxh frames
  gray=cv2.cvtColor(frames,cv2.COLOR_BGR2GRAY)
  
  #detexct cars of different sizes in the input image
  cars=car_cascade.detectMultiScale(gray,1.1,1)
  
  #to draw a rectangle in each cars
  for(x,y,w,h) in cars:
    cv2.rectangle(frames,(x,y),(x+w,y+h),(0,0,255),2)
    
  #display frames in a window
  cv2.imshow('video2',frames)
  
  #wait for eEsc key to stop
  if cv2.waitKey(33)==27:
    break
    
#De-allocate any associated memory usage
cv2.destroyAllWindows()
